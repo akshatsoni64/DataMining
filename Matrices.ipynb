{
  "nbformat": 4,
  "nbformat_minor": 0,
  "metadata": {
    "colab": {
      "name": "Matrices.ipynb",
      "version": "0.3.2",
      "provenance": [],
      "include_colab_link": true
    },
    "kernelspec": {
      "name": "python3",
      "display_name": "Python 3"
    }
  },
  "cells": [
    {
      "cell_type": "markdown",
      "metadata": {
        "id": "view-in-github",
        "colab_type": "text"
      },
      "source": [
        "<a href=\"https://colab.research.google.com/github/akshatsoni64/DataMining/blob/master/Matrices.ipynb\" target=\"_parent\"><img src=\"https://colab.research.google.com/assets/colab-badge.svg\" alt=\"Open In Colab\"/></a>"
      ]
    },
    {
      "cell_type": "code",
      "metadata": {
        "id": "xZoqe9C4gBke",
        "colab_type": "code",
        "colab": {}
      },
      "source": [
        "import numpy as np"
      ],
      "execution_count": 0,
      "outputs": []
    },
    {
      "cell_type": "code",
      "metadata": {
        "id": "5iF4SbRwgWKI",
        "colab_type": "code",
        "outputId": "066fc5b8-3702-40dc-be86-d118eefbec21",
        "colab": {
          "base_uri": "https://localhost:8080/",
          "height": 68
        }
      },
      "source": [
        "mt=np.matrix(\"1,2,3,4;4,5,6,7;7,8,9,10\")\n",
        "print(mt)"
      ],
      "execution_count": 0,
      "outputs": [
        {
          "output_type": "stream",
          "text": [
            "[[ 1  2  3  4]\n",
            " [ 4  5  6  7]\n",
            " [ 7  8  9 10]]\n"
          ],
          "name": "stdout"
        }
      ]
    },
    {
      "cell_type": "code",
      "metadata": {
        "id": "rmxxz9tBguw5",
        "colab_type": "code",
        "outputId": "c4ebcf05-a50c-4985-a1b0-d8f95f8524d5",
        "colab": {
          "base_uri": "https://localhost:8080/",
          "height": 34
        }
      },
      "source": [
        "print(mt.shape)"
      ],
      "execution_count": 0,
      "outputs": [
        {
          "output_type": "stream",
          "text": [
            "(3, 3)\n"
          ],
          "name": "stdout"
        }
      ]
    },
    {
      "cell_type": "code",
      "metadata": {
        "id": "ItnPm-Y8hQBB",
        "colab_type": "code",
        "outputId": "3b01e808-25b8-4df8-c19b-e11f48c23634",
        "colab": {
          "base_uri": "https://localhost:8080/",
          "height": 34
        }
      },
      "source": [
        "print(\"Cols:\",mt.shape[1])"
      ],
      "execution_count": 0,
      "outputs": [
        {
          "output_type": "stream",
          "text": [
            "Cols: 4\n"
          ],
          "name": "stdout"
        }
      ]
    },
    {
      "cell_type": "code",
      "metadata": {
        "id": "mT3ibJ-CiGW0",
        "colab_type": "code",
        "outputId": "54412780-bd50-456b-cbdb-eac09fc996da",
        "colab": {
          "base_uri": "https://localhost:8080/",
          "height": 34
        }
      },
      "source": [
        "print(mt.size)"
      ],
      "execution_count": 0,
      "outputs": [
        {
          "output_type": "stream",
          "text": [
            "12\n"
          ],
          "name": "stdout"
        }
      ]
    },
    {
      "cell_type": "code",
      "metadata": {
        "id": "FSR1kUvZjTx0",
        "colab_type": "code",
        "outputId": "f166ff1e-7f80-469f-cb57-7d4dafb7bcba",
        "colab": {
          "base_uri": "https://localhost:8080/",
          "height": 34
        }
      },
      "source": [
        "col_new=np.matrix(\"2,3,4\")\n",
        "print(col_new)"
      ],
      "execution_count": 0,
      "outputs": [
        {
          "output_type": "stream",
          "text": [
            "[[2 3 4]]\n"
          ],
          "name": "stdout"
        }
      ]
    },
    {
      "cell_type": "code",
      "metadata": {
        "id": "hw2KAozFjT0W",
        "colab_type": "code",
        "outputId": "2729461e-591f-4229-d7ee-daaa29a7b0dc",
        "colab": {
          "base_uri": "https://localhost:8080/",
          "height": 68
        }
      },
      "source": [
        "mt=np.insert(mt,0,col_new,axis=1)\n",
        "print(mt)"
      ],
      "execution_count": 0,
      "outputs": [
        {
          "output_type": "stream",
          "text": [
            "[[ 2  1  2  3  4]\n",
            " [ 3  4  5  6  7]\n",
            " [ 4  7  8  9 10]]\n"
          ],
          "name": "stdout"
        }
      ]
    },
    {
      "cell_type": "code",
      "metadata": {
        "id": "iKoBGhBnjT67",
        "colab_type": "code",
        "outputId": "eb8f0fb2-f881-4aac-ac0b-53510e5f9759",
        "colab": {
          "base_uri": "https://localhost:8080/",
          "height": 34
        }
      },
      "source": [
        "row_new=np.matrix(\"4,5,6,7,9\")\n",
        "print(row_new)"
      ],
      "execution_count": 0,
      "outputs": [
        {
          "output_type": "stream",
          "text": [
            "[[4 5 6 7 9]]\n"
          ],
          "name": "stdout"
        }
      ]
    },
    {
      "cell_type": "code",
      "metadata": {
        "id": "3N98Ri_bjT4j",
        "colab_type": "code",
        "outputId": "46b4a509-8ba1-430f-b0c2-e61688a189c7",
        "colab": {
          "base_uri": "https://localhost:8080/",
          "height": 102
        }
      },
      "source": [
        "mt=np.insert(mt,0,row_new,axis=0)\n",
        "print(mt)"
      ],
      "execution_count": 0,
      "outputs": [
        {
          "output_type": "stream",
          "text": [
            "[[ 4  5  6  7  9]\n",
            " [ 4  5  6  7  9]\n",
            " [ 2  1  2  3  4]\n",
            " [ 3  4  5  6  7]\n",
            " [ 4  7  8  9 10]]\n"
          ],
          "name": "stdout"
        }
      ]
    },
    {
      "cell_type": "code",
      "metadata": {
        "id": "U-4h5jnRa2kL",
        "colab_type": "code",
        "outputId": "032bc7fc-854e-47be-feb1-e3e20811d392",
        "colab": {
          "base_uri": "https://localhost:8080/",
          "height": 102
        }
      },
      "source": [
        "mt[1,1]=-3\n",
        "print(mt)"
      ],
      "execution_count": 0,
      "outputs": [
        {
          "output_type": "stream",
          "text": [
            "[[ 4  5  6  7  9]\n",
            " [ 4 -3  6  7  9]\n",
            " [ 2  1  2  3  4]\n",
            " [ 3  4  5  6  7]\n",
            " [ 4  7  8  9 10]]\n"
          ],
          "name": "stdout"
        }
      ]
    },
    {
      "cell_type": "code",
      "metadata": {
        "id": "hzTtA_vya4td",
        "colab_type": "code",
        "outputId": "3d00feea-8911-460b-c907-a4e0d5f38368",
        "colab": {
          "base_uri": "https://localhost:8080/",
          "height": 102
        }
      },
      "source": [
        "print(mt[:,2])"
      ],
      "execution_count": 0,
      "outputs": [
        {
          "output_type": "stream",
          "text": [
            "[[6]\n",
            " [6]\n",
            " [2]\n",
            " [5]\n",
            " [8]]\n"
          ],
          "name": "stdout"
        }
      ]
    },
    {
      "cell_type": "code",
      "metadata": {
        "id": "T-9ZFvWNa4y3",
        "colab_type": "code",
        "outputId": "3a7ce5f1-e67c-461d-fa19-c8e391012a5e",
        "colab": {
          "base_uri": "https://localhost:8080/",
          "height": 34
        }
      },
      "source": [
        "print(mt[1,2])"
      ],
      "execution_count": 0,
      "outputs": [
        {
          "output_type": "stream",
          "text": [
            "6\n"
          ],
          "name": "stdout"
        }
      ]
    },
    {
      "cell_type": "code",
      "metadata": {
        "id": "5Kq2mOfobeNn",
        "colab_type": "code",
        "outputId": "c65b8746-a89b-4fee-ce5a-dc5e3daaf2e6",
        "colab": {
          "base_uri": "https://localhost:8080/",
          "height": 187
        }
      },
      "source": [
        "A=np.matrix(np.arange(0,20)).reshape(5,4)\n",
        "B=np.matrix(np.arange(20,40)).reshape(5,4)\n",
        "print(A)\n",
        "print(B)"
      ],
      "execution_count": 0,
      "outputs": [
        {
          "output_type": "stream",
          "text": [
            "[[ 0  1  2  3]\n",
            " [ 4  5  6  7]\n",
            " [ 8  9 10 11]\n",
            " [12 13 14 15]\n",
            " [16 17 18 19]]\n",
            "[[20 21 22 23]\n",
            " [24 25 26 27]\n",
            " [28 29 30 31]\n",
            " [32 33 34 35]\n",
            " [36 37 38 39]]\n"
          ],
          "name": "stdout"
        }
      ]
    },
    {
      "cell_type": "code",
      "metadata": {
        "id": "qiETeJVCbeQO",
        "colab_type": "code",
        "outputId": "f06284de-313a-42cc-d58a-5d943f74c723",
        "colab": {
          "base_uri": "https://localhost:8080/",
          "height": 102
        }
      },
      "source": [
        "print(np.add(A,B))"
      ],
      "execution_count": 0,
      "outputs": [
        {
          "output_type": "stream",
          "text": [
            "[[20 22 24 26]\n",
            " [28 30 32 34]\n",
            " [36 38 40 42]\n",
            " [44 46 48 50]\n",
            " [52 54 56 58]]\n"
          ],
          "name": "stdout"
        }
      ]
    },
    {
      "cell_type": "code",
      "metadata": {
        "id": "2qPnnfMebeT8",
        "colab_type": "code",
        "outputId": "714dda40-5a85-4d3b-b643-57567de8439f",
        "colab": {
          "base_uri": "https://localhost:8080/",
          "height": 102
        }
      },
      "source": [
        "print(np.subtract(A,B))"
      ],
      "execution_count": 0,
      "outputs": [
        {
          "output_type": "stream",
          "text": [
            "[[-20 -20 -20 -20]\n",
            " [-20 -20 -20 -20]\n",
            " [-20 -20 -20 -20]\n",
            " [-20 -20 -20 -20]\n",
            " [-20 -20 -20 -20]]\n"
          ],
          "name": "stdout"
        }
      ]
    },
    {
      "cell_type": "code",
      "metadata": {
        "id": "gOS_kkPEa5I7",
        "colab_type": "code",
        "outputId": "108011e4-9bc9-4651-971f-71c9fcd35b0d",
        "colab": {
          "base_uri": "https://localhost:8080/",
          "height": 102
        }
      },
      "source": [
        "B=np.transpose(B)\n",
        "print(np.dot(A,B))\n",
        "B=np.transpose(B)"
      ],
      "execution_count": 0,
      "outputs": [
        {
          "output_type": "stream",
          "text": [
            "[[ 134  158  182  206  230]\n",
            " [ 478  566  654  742  830]\n",
            " [ 822  974 1126 1278 1430]\n",
            " [1166 1382 1598 1814 2030]\n",
            " [1510 1790 2070 2350 2630]]\n"
          ],
          "name": "stdout"
        }
      ]
    },
    {
      "cell_type": "code",
      "metadata": {
        "id": "muiI4x30a4wO",
        "colab_type": "code",
        "outputId": "e7b7b012-5014-406e-c53a-a6c1960a3753",
        "colab": {
          "base_uri": "https://localhost:8080/",
          "height": 102
        }
      },
      "source": [
        "print(np.multiply(A,B))"
      ],
      "execution_count": 0,
      "outputs": [
        {
          "output_type": "stream",
          "text": [
            "[[  0  21  44  69]\n",
            " [ 96 125 156 189]\n",
            " [224 261 300 341]\n",
            " [384 429 476 525]\n",
            " [576 629 684 741]]\n"
          ],
          "name": "stdout"
        }
      ]
    },
    {
      "cell_type": "code",
      "metadata": {
        "id": "UogY9ZG3dmwp",
        "colab_type": "code",
        "outputId": "1ca2ae37-f9fb-4d5e-d042-a40756ba7056",
        "colab": {
          "base_uri": "https://localhost:8080/",
          "height": 102
        }
      },
      "source": [
        "print(np.divide(A,B))"
      ],
      "execution_count": 0,
      "outputs": [
        {
          "output_type": "stream",
          "text": [
            "[[0.         0.04761905 0.09090909 0.13043478]\n",
            " [0.16666667 0.2        0.23076923 0.25925926]\n",
            " [0.28571429 0.31034483 0.33333333 0.35483871]\n",
            " [0.375      0.39393939 0.41176471 0.42857143]\n",
            " [0.44444444 0.45945946 0.47368421 0.48717949]]\n"
          ],
          "name": "stdout"
        }
      ]
    },
    {
      "cell_type": "code",
      "metadata": {
        "id": "KvvKHlHLdm45",
        "colab_type": "code",
        "colab": {}
      },
      "source": [
        ""
      ],
      "execution_count": 0,
      "outputs": []
    },
    {
      "cell_type": "code",
      "metadata": {
        "id": "B7F4ouCudm3H",
        "colab_type": "code",
        "colab": {}
      },
      "source": [
        ""
      ],
      "execution_count": 0,
      "outputs": []
    },
    {
      "cell_type": "code",
      "metadata": {
        "id": "g6xdfmK8dm1m",
        "colab_type": "code",
        "colab": {}
      },
      "source": [
        ""
      ],
      "execution_count": 0,
      "outputs": []
    },
    {
      "cell_type": "code",
      "metadata": {
        "id": "sp7oT4w9dmzZ",
        "colab_type": "code",
        "colab": {}
      },
      "source": [
        ""
      ],
      "execution_count": 0,
      "outputs": []
    }
  ]
}