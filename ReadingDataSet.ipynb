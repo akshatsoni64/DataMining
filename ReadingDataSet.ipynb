{
  "nbformat": 4,
  "nbformat_minor": 0,
  "metadata": {
    "colab": {
      "name": "ReadingDataSet.ipynb",
      "version": "0.3.2",
      "provenance": [],
      "collapsed_sections": [],
      "include_colab_link": true
    },
    "kernelspec": {
      "name": "python3",
      "display_name": "Python 3"
    }
  },
  "cells": [
    {
      "cell_type": "markdown",
      "metadata": {
        "id": "view-in-github",
        "colab_type": "text"
      },
      "source": [
        "<a href=\"https://colab.research.google.com/github/akshatsoni64/DataSciencePractice/blob/master/ReadingDataSet.ipynb\" target=\"_parent\"><img src=\"https://colab.research.google.com/assets/colab-badge.svg\" alt=\"Open In Colab\"/></a>"
      ]
    },
    {
      "cell_type": "code",
      "metadata": {
        "id": "cquhP84JGCob",
        "colab_type": "code",
        "colab": {}
      },
      "source": [
        "from google.colab import drive\n",
        "drive.mount('/content/drive')"
      ],
      "execution_count": 0,
      "outputs": []
    },
    {
      "cell_type": "code",
      "metadata": {
        "id": "aqXWtWkYFuPN",
        "colab_type": "code",
        "colab": {}
      },
      "source": [
        "import pandas as pd"
      ],
      "execution_count": 0,
      "outputs": []
    },
    {
      "cell_type": "code",
      "metadata": {
        "id": "jc7IChMh6hm9",
        "colab_type": "code",
        "outputId": "472d4416-791c-4be6-c408-996b4c4df157",
        "colab": {
          "base_uri": "https://localhost:8080/",
          "height": 34
        }
      },
      "source": [
        "dataSet_csv=pd.read_csv('/content/drive/My Drive/Colab Notebooks/DataSet/Iris_data_sample.csv')\n",
        "print(dataSet_csv.shape)"
      ],
      "execution_count": 6,
      "outputs": [
        {
          "output_type": "stream",
          "text": [
            "(150, 6)\n"
          ],
          "name": "stdout"
        }
      ]
    },
    {
      "cell_type": "code",
      "metadata": {
        "id": "cYc2IrPDtu35",
        "colab_type": "code",
        "colab": {
          "base_uri": "https://localhost:8080/",
          "height": 34
        },
        "outputId": "4d86ec38-45f3-402f-ef58-b73cb3a0531a"
      },
      "source": [
        "dataSet_csv=pd.read_csv('/content/drive/My Drive/Colab Notebooks/DataSet/Iris_data_sample.csv',index_col=0,na_values=[\"??\"])\n",
        "print(dataSet_csv.shape)"
      ],
      "execution_count": 11,
      "outputs": [
        {
          "output_type": "stream",
          "text": [
            "(150, 5)\n"
          ],
          "name": "stdout"
        }
      ]
    },
    {
      "cell_type": "code",
      "metadata": {
        "id": "JBujS_dotusY",
        "colab_type": "code",
        "colab": {}
      },
      "source": [
        "dataSet_csv=pd.read_csv('/content/drive/My Drive/Colab Notebooks/DataSet/Iris_data_sample.csv',index_col=0,)\n",
        "print(dataSet_csv.shape)"
      ],
      "execution_count": 0,
      "outputs": []
    },
    {
      "cell_type": "code",
      "metadata": {
        "id": "BKR6jL72kqmq",
        "colab_type": "code",
        "outputId": "1fb236df-72b5-43da-a6a8-34b1cd5f3674",
        "colab": {
          "base_uri": "https://localhost:8080/",
          "height": 34
        }
      },
      "source": [
        "dataSet_xl=pd.read_excel('/content/drive/My Drive/Colab Notebooks/DataSet/Iris_data_sample.xlsx',sheet_name=\"Iris_data\")\n",
        "print(dataSet_xl.shape)"
      ],
      "execution_count": 10,
      "outputs": [
        {
          "output_type": "stream",
          "text": [
            "(150, 6)\n"
          ],
          "name": "stdout"
        }
      ]
    },
    {
      "cell_type": "code",
      "metadata": {
        "id": "lVsBYUXikqqx",
        "colab_type": "code",
        "outputId": "152cf0a7-df43-4bd1-8edd-9f3d4792f53a",
        "colab": {
          "base_uri": "https://localhost:8080/",
          "height": 34
        }
      },
      "source": [
        "dataSet_txt=pd.read_csv('/content/drive/My Drive/Colab Notebooks/DataSet/Iris_data_sample.txt',sep=\" \")\n",
        "print(dataSet_txt.shape)"
      ],
      "execution_count": 9,
      "outputs": [
        {
          "output_type": "stream",
          "text": [
            "(150, 6)\n"
          ],
          "name": "stdout"
        }
      ]
    },
    {
      "cell_type": "code",
      "metadata": {
        "id": "bchr6QtckqvN",
        "colab_type": "code",
        "colab": {}
      },
      "source": [
        ""
      ],
      "execution_count": 0,
      "outputs": []
    },
    {
      "cell_type": "code",
      "metadata": {
        "id": "DQizjd1Ykqtj",
        "colab_type": "code",
        "colab": {}
      },
      "source": [
        ""
      ],
      "execution_count": 0,
      "outputs": []
    },
    {
      "cell_type": "code",
      "metadata": {
        "id": "eSPKWOE2kqo5",
        "colab_type": "code",
        "colab": {}
      },
      "source": [
        ""
      ],
      "execution_count": 0,
      "outputs": []
    },
    {
      "cell_type": "code",
      "metadata": {
        "id": "rSwP71x4kqki",
        "colab_type": "code",
        "colab": {}
      },
      "source": [
        ""
      ],
      "execution_count": 0,
      "outputs": []
    }
  ]
}