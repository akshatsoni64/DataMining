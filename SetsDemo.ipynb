{
  "nbformat": 4,
  "nbformat_minor": 0,
  "metadata": {
    "colab": {
      "name": "SetsDemo.ipynb",
      "version": "0.3.2",
      "provenance": [],
      "include_colab_link": true
    },
    "kernelspec": {
      "name": "python3",
      "display_name": "Python 3"
    }
  },
  "cells": [
    {
      "cell_type": "markdown",
      "metadata": {
        "id": "view-in-github",
        "colab_type": "text"
      },
      "source": [
        "<a href=\"https://colab.research.google.com/github/akshatsoni64/DataMining/blob/master/SetsDemo.ipynb\" target=\"_parent\"><img src=\"https://colab.research.google.com/assets/colab-badge.svg\" alt=\"Open In Colab\"/></a>"
      ]
    },
    {
      "cell_type": "code",
      "metadata": {
        "id": "cwpKUgSmObtB",
        "colab_type": "code",
        "outputId": "12a36a07-0faa-4eed-e5ce-8336f6914a05",
        "colab": {
          "base_uri": "https://localhost:8080/",
          "height": 34
        }
      },
      "source": [
        "age = {56,52,41,63,41}\n",
        "print(age)"
      ],
      "execution_count": 0,
      "outputs": [
        {
          "output_type": "stream",
          "text": [
            "{56, 41, 52, 63}\n"
          ],
          "name": "stdout"
        }
      ]
    },
    {
      "cell_type": "code",
      "metadata": {
        "id": "opxvDregPYPr",
        "colab_type": "code",
        "outputId": "9547f5fc-0e27-4125-d414-07db10dcb08e",
        "colab": {
          "base_uri": "https://localhost:8080/",
          "height": 34
        }
      },
      "source": [
        "employee_name = {'Ram','Preethi','Satish','Karan','John'}\n",
        "print(employee_name)"
      ],
      "execution_count": 0,
      "outputs": [
        {
          "output_type": "stream",
          "text": [
            "{'Ram', 'Preethi', 'Satish', 'John', 'Karan'}\n"
          ],
          "name": "stdout"
        }
      ]
    },
    {
      "cell_type": "code",
      "metadata": {
        "id": "6I3UnS81Pnio",
        "colab_type": "code",
        "outputId": "15b12800-2b3d-43df-9ec1-ae8de1c66432",
        "colab": {
          "base_uri": "https://localhost:8080/",
          "height": 34
        }
      },
      "source": [
        "employee_name.add('Ganesh')\n",
        "print(employee_name)"
      ],
      "execution_count": 0,
      "outputs": [
        {
          "output_type": "stream",
          "text": [
            "{'Ram', 'Preethi', 'Satish', 'John', 'Karan', 'Ganesh'}\n"
          ],
          "name": "stdout"
        }
      ]
    },
    {
      "cell_type": "code",
      "metadata": {
        "id": "3_v0_F_rP07-",
        "colab_type": "code",
        "outputId": "a8dafba9-f62f-492b-ec35-c8bbf23db9a8",
        "colab": {
          "base_uri": "https://localhost:8080/",
          "height": 34
        }
      },
      "source": [
        "employee_name.discard('John')\n",
        "print(employee_name)"
      ],
      "execution_count": 0,
      "outputs": [
        {
          "output_type": "stream",
          "text": [
            "{'Ram', 'Preethi', 'Satish', 'Karan', 'Ganesh'}\n"
          ],
          "name": "stdout"
        }
      ]
    },
    {
      "cell_type": "code",
      "metadata": {
        "id": "UOCapQJmQLLj",
        "colab_type": "code",
        "outputId": "bf94b194-9927-40b3-e82b-7a811201f962",
        "colab": {
          "base_uri": "https://localhost:8080/",
          "height": 34
        }
      },
      "source": [
        "employee_name.clear()\n",
        "print(employee_name)"
      ],
      "execution_count": 0,
      "outputs": [
        {
          "output_type": "stream",
          "text": [
            "set()\n"
          ],
          "name": "stdout"
        }
      ]
    },
    {
      "cell_type": "code",
      "metadata": {
        "id": "FfHcaOW9QVdY",
        "colab_type": "code",
        "outputId": "245bb379-980a-4d40-b01d-7c0df3f37cc1",
        "colab": {
          "base_uri": "https://localhost:8080/",
          "height": 51
        }
      },
      "source": [
        "Junior_datascientist = {'R','Python','Tableau'}\n",
        "Datascientist = {'R','Python','scala','Java','Tableau'}\n",
        "\n",
        "print(Junior_datascientist)\n",
        "print(Datascientist)"
      ],
      "execution_count": 0,
      "outputs": [
        {
          "output_type": "stream",
          "text": [
            "{'Tableau', 'R', 'Python'}\n",
            "{'Tableau', 'R', 'Java', 'Python', 'scala'}\n"
          ],
          "name": "stdout"
        }
      ]
    },
    {
      "cell_type": "code",
      "metadata": {
        "id": "eY9M6OraQ3LD",
        "colab_type": "code",
        "outputId": "6b8bac58-436d-45ad-ea8e-174b70bb1b1e",
        "colab": {
          "base_uri": "https://localhost:8080/",
          "height": 34
        }
      },
      "source": [
        "union = Junior_datascientist.union(Datascientist)\n",
        "print(union)"
      ],
      "execution_count": 0,
      "outputs": [
        {
          "output_type": "stream",
          "text": [
            "{'Tableau', 'R', 'Java', 'Python', 'scala'}\n"
          ],
          "name": "stdout"
        }
      ]
    },
    {
      "cell_type": "code",
      "metadata": {
        "id": "hG1cH8XeRJAa",
        "colab_type": "code",
        "outputId": "875ecba0-eb77-4c20-aed2-286be97cfa5d",
        "colab": {
          "base_uri": "https://localhost:8080/",
          "height": 34
        }
      },
      "source": [
        "intersec = Junior_datascientist.intersection(Datascientist)\n",
        "print(intersec)"
      ],
      "execution_count": 0,
      "outputs": [
        {
          "output_type": "stream",
          "text": [
            "{'Tableau', 'R', 'Python'}\n"
          ],
          "name": "stdout"
        }
      ]
    },
    {
      "cell_type": "code",
      "metadata": {
        "id": "jq9rJcMLRdPg",
        "colab_type": "code",
        "outputId": "d633c82e-3db3-4b55-c811-5b95bdfe48c1",
        "colab": {
          "base_uri": "https://localhost:8080/",
          "height": 34
        }
      },
      "source": [
        "diff = Junior_datascientist.difference(Datascientist)\n",
        "print(diff)"
      ],
      "execution_count": 0,
      "outputs": [
        {
          "output_type": "stream",
          "text": [
            "set()\n"
          ],
          "name": "stdout"
        }
      ]
    },
    {
      "cell_type": "code",
      "metadata": {
        "id": "CTbuNkQARwNJ",
        "colab_type": "code",
        "outputId": "f3e60a30-960c-470c-ae9f-7405e34c5c44",
        "colab": {
          "base_uri": "https://localhost:8080/",
          "height": 34
        }
      },
      "source": [
        "union = Junior_datascientist.symmetric_difference(Datascientist)\n",
        "print(union)"
      ],
      "execution_count": 0,
      "outputs": [
        {
          "output_type": "stream",
          "text": [
            "{'scala', 'Java'}\n"
          ],
          "name": "stdout"
        }
      ]
    }
  ]
}